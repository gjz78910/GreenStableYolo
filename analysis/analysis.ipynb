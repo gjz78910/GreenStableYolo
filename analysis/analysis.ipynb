{
 "cells": [
  {
   "cell_type": "code",
   "execution_count": 38,
   "metadata": {},
   "outputs": [],
   "source": [
    "import pandas as pd\n",
    "import matplotlib.pyplot as plt\n",
    "import seaborn as sns\n",
    "import scipy.stats as stats\n",
    "\n",
    "sns.set_theme(style=\"whitegrid\")"
   ]
  },
  {
   "cell_type": "code",
   "execution_count": 31,
   "metadata": {},
   "outputs": [
    {
     "data": {
      "text/html": [
       "<div>\n",
       "<style scoped>\n",
       "    .dataframe tbody tr th:only-of-type {\n",
       "        vertical-align: middle;\n",
       "    }\n",
       "\n",
       "    .dataframe tbody tr th {\n",
       "        vertical-align: top;\n",
       "    }\n",
       "\n",
       "    .dataframe thead th {\n",
       "        text-align: right;\n",
       "    }\n",
       "</style>\n",
       "<table border=\"1\" class=\"dataframe\">\n",
       "  <thead>\n",
       "    <tr style=\"text-align: right;\">\n",
       "      <th></th>\n",
       "      <th>1</th>\n",
       "      <th>2</th>\n",
       "      <th>model</th>\n",
       "    </tr>\n",
       "    <tr>\n",
       "      <th>0</th>\n",
       "      <th></th>\n",
       "      <th></th>\n",
       "      <th></th>\n",
       "    </tr>\n",
       "  </thead>\n",
       "  <tbody>\n",
       "    <tr>\n",
       "      <th>1</th>\n",
       "      <td>0.744167</td>\n",
       "      <td>27383.300780</td>\n",
       "      <td>Stable YOLO</td>\n",
       "    </tr>\n",
       "    <tr>\n",
       "      <th>2</th>\n",
       "      <td>0.855833</td>\n",
       "      <td>22764.111330</td>\n",
       "      <td>Stable YOLO</td>\n",
       "    </tr>\n",
       "    <tr>\n",
       "      <th>3</th>\n",
       "      <td>0.813333</td>\n",
       "      <td>23600.783200</td>\n",
       "      <td>Stable YOLO</td>\n",
       "    </tr>\n",
       "    <tr>\n",
       "      <th>4</th>\n",
       "      <td>0.828000</td>\n",
       "      <td>30347.857420</td>\n",
       "      <td>Stable YOLO</td>\n",
       "    </tr>\n",
       "    <tr>\n",
       "      <th>5</th>\n",
       "      <td>0.846364</td>\n",
       "      <td>19792.208980</td>\n",
       "      <td>Stable YOLO</td>\n",
       "    </tr>\n",
       "    <tr>\n",
       "      <th>6</th>\n",
       "      <td>0.767143</td>\n",
       "      <td>107854.046875</td>\n",
       "      <td>Stable YOLO</td>\n",
       "    </tr>\n",
       "    <tr>\n",
       "      <th>7</th>\n",
       "      <td>0.794545</td>\n",
       "      <td>33767.144531</td>\n",
       "      <td>Stable YOLO</td>\n",
       "    </tr>\n",
       "    <tr>\n",
       "      <th>8</th>\n",
       "      <td>0.845000</td>\n",
       "      <td>117978.757812</td>\n",
       "      <td>Stable YOLO</td>\n",
       "    </tr>\n",
       "    <tr>\n",
       "      <th>9</th>\n",
       "      <td>0.862727</td>\n",
       "      <td>110482.531250</td>\n",
       "      <td>Stable YOLO</td>\n",
       "    </tr>\n",
       "    <tr>\n",
       "      <th>10</th>\n",
       "      <td>0.845714</td>\n",
       "      <td>120979.593750</td>\n",
       "      <td>Stable YOLO</td>\n",
       "    </tr>\n",
       "  </tbody>\n",
       "</table>\n",
       "</div>"
      ],
      "text/plain": [
       "           1              2        model\n",
       "0                                       \n",
       "1   0.744167   27383.300780  Stable YOLO\n",
       "2   0.855833   22764.111330  Stable YOLO\n",
       "3   0.813333   23600.783200  Stable YOLO\n",
       "4   0.828000   30347.857420  Stable YOLO\n",
       "5   0.846364   19792.208980  Stable YOLO\n",
       "6   0.767143  107854.046875  Stable YOLO\n",
       "7   0.794545   33767.144531  Stable YOLO\n",
       "8   0.845000  117978.757812  Stable YOLO\n",
       "9   0.862727  110482.531250  Stable YOLO\n",
       "10  0.845714  120979.593750  Stable YOLO"
      ]
     },
     "execution_count": 31,
     "metadata": {},
     "output_type": "execute_result"
    }
   ],
   "source": [
    "sy = pd.read_csv('StableYolo_results_numgen50_popsize25_new.csv', header=None, index_col=0)\n",
    "sy['model'] = 'Stable YOLO'\n",
    "sy.drop(columns=2, inplace=True)\n",
    "sy.columns = [1,2,'model']\n",
    "sy"
   ]
  },
  {
   "cell_type": "code",
   "execution_count": 58,
   "metadata": {},
   "outputs": [
    {
     "data": {
      "text/html": [
       "<div>\n",
       "<style scoped>\n",
       "    .dataframe tbody tr th:only-of-type {\n",
       "        vertical-align: middle;\n",
       "    }\n",
       "\n",
       "    .dataframe tbody tr th {\n",
       "        vertical-align: top;\n",
       "    }\n",
       "\n",
       "    .dataframe thead th {\n",
       "        text-align: right;\n",
       "    }\n",
       "</style>\n",
       "<table border=\"1\" class=\"dataframe\">\n",
       "  <thead>\n",
       "    <tr style=\"text-align: right;\">\n",
       "      <th></th>\n",
       "      <th>1</th>\n",
       "      <th>2</th>\n",
       "    </tr>\n",
       "  </thead>\n",
       "  <tbody>\n",
       "    <tr>\n",
       "      <th>count</th>\n",
       "      <td>10.000000</td>\n",
       "      <td>10.000000</td>\n",
       "    </tr>\n",
       "    <tr>\n",
       "      <th>mean</th>\n",
       "      <td>0.820283</td>\n",
       "      <td>61495.033593</td>\n",
       "    </tr>\n",
       "    <tr>\n",
       "      <th>std</th>\n",
       "      <td>0.039988</td>\n",
       "      <td>45771.817993</td>\n",
       "    </tr>\n",
       "    <tr>\n",
       "      <th>min</th>\n",
       "      <td>0.744167</td>\n",
       "      <td>19792.208980</td>\n",
       "    </tr>\n",
       "    <tr>\n",
       "      <th>25%</th>\n",
       "      <td>0.799242</td>\n",
       "      <td>24546.412595</td>\n",
       "    </tr>\n",
       "    <tr>\n",
       "      <th>50%</th>\n",
       "      <td>0.836500</td>\n",
       "      <td>32057.500976</td>\n",
       "    </tr>\n",
       "    <tr>\n",
       "      <th>75%</th>\n",
       "      <td>0.846201</td>\n",
       "      <td>109825.410156</td>\n",
       "    </tr>\n",
       "    <tr>\n",
       "      <th>max</th>\n",
       "      <td>0.862727</td>\n",
       "      <td>120979.593750</td>\n",
       "    </tr>\n",
       "  </tbody>\n",
       "</table>\n",
       "</div>"
      ],
      "text/plain": [
       "               1              2\n",
       "count  10.000000      10.000000\n",
       "mean    0.820283   61495.033593\n",
       "std     0.039988   45771.817993\n",
       "min     0.744167   19792.208980\n",
       "25%     0.799242   24546.412595\n",
       "50%     0.836500   32057.500976\n",
       "75%     0.846201  109825.410156\n",
       "max     0.862727  120979.593750"
      ]
     },
     "execution_count": 58,
     "metadata": {},
     "output_type": "execute_result"
    }
   ],
   "source": [
    "# statistics\n",
    "\n",
    "sy.describe()"
   ]
  },
  {
   "cell_type": "code",
   "execution_count": 32,
   "metadata": {},
   "outputs": [
    {
     "data": {
      "text/html": [
       "<div>\n",
       "<style scoped>\n",
       "    .dataframe tbody tr th:only-of-type {\n",
       "        vertical-align: middle;\n",
       "    }\n",
       "\n",
       "    .dataframe tbody tr th {\n",
       "        vertical-align: top;\n",
       "    }\n",
       "\n",
       "    .dataframe thead th {\n",
       "        text-align: right;\n",
       "    }\n",
       "</style>\n",
       "<table border=\"1\" class=\"dataframe\">\n",
       "  <thead>\n",
       "    <tr style=\"text-align: right;\">\n",
       "      <th></th>\n",
       "      <th>1</th>\n",
       "      <th>2</th>\n",
       "      <th>model</th>\n",
       "    </tr>\n",
       "    <tr>\n",
       "      <th>0</th>\n",
       "      <th></th>\n",
       "      <th></th>\n",
       "      <th></th>\n",
       "    </tr>\n",
       "  </thead>\n",
       "  <tbody>\n",
       "    <tr>\n",
       "      <th>1</th>\n",
       "      <td>0.710000</td>\n",
       "      <td>6328.475586</td>\n",
       "      <td>Green YOLO</td>\n",
       "    </tr>\n",
       "    <tr>\n",
       "      <th>2</th>\n",
       "      <td>0.764167</td>\n",
       "      <td>11551.518555</td>\n",
       "      <td>Green YOLO</td>\n",
       "    </tr>\n",
       "    <tr>\n",
       "      <th>3</th>\n",
       "      <td>0.590556</td>\n",
       "      <td>6884.140625</td>\n",
       "      <td>Green YOLO</td>\n",
       "    </tr>\n",
       "    <tr>\n",
       "      <th>4</th>\n",
       "      <td>0.506923</td>\n",
       "      <td>3995.268799</td>\n",
       "      <td>Green YOLO</td>\n",
       "    </tr>\n",
       "    <tr>\n",
       "      <th>5</th>\n",
       "      <td>0.683571</td>\n",
       "      <td>11829.330078</td>\n",
       "      <td>Green YOLO</td>\n",
       "    </tr>\n",
       "    <tr>\n",
       "      <th>6</th>\n",
       "      <td>0.656667</td>\n",
       "      <td>12278.750000</td>\n",
       "      <td>Green YOLO</td>\n",
       "    </tr>\n",
       "    <tr>\n",
       "      <th>7</th>\n",
       "      <td>0.643913</td>\n",
       "      <td>8934.455078</td>\n",
       "      <td>Green YOLO</td>\n",
       "    </tr>\n",
       "    <tr>\n",
       "      <th>8</th>\n",
       "      <td>0.732857</td>\n",
       "      <td>6060.795410</td>\n",
       "      <td>Green YOLO</td>\n",
       "    </tr>\n",
       "    <tr>\n",
       "      <th>9</th>\n",
       "      <td>0.693478</td>\n",
       "      <td>8794.366211</td>\n",
       "      <td>Green YOLO</td>\n",
       "    </tr>\n",
       "    <tr>\n",
       "      <th>10</th>\n",
       "      <td>0.698667</td>\n",
       "      <td>7598.760254</td>\n",
       "      <td>Green YOLO</td>\n",
       "    </tr>\n",
       "  </tbody>\n",
       "</table>\n",
       "</div>"
      ],
      "text/plain": [
       "           1             2       model\n",
       "0                                     \n",
       "1   0.710000   6328.475586  Green YOLO\n",
       "2   0.764167  11551.518555  Green YOLO\n",
       "3   0.590556   6884.140625  Green YOLO\n",
       "4   0.506923   3995.268799  Green YOLO\n",
       "5   0.683571  11829.330078  Green YOLO\n",
       "6   0.656667  12278.750000  Green YOLO\n",
       "7   0.643913   8934.455078  Green YOLO\n",
       "8   0.732857   6060.795410  Green YOLO\n",
       "9   0.693478   8794.366211  Green YOLO\n",
       "10  0.698667   7598.760254  Green YOLO"
      ]
     },
     "execution_count": 32,
     "metadata": {},
     "output_type": "execute_result"
    }
   ],
   "source": [
    "gy = pd.read_csv('GreenYolo_results_numgen10_popsize25.csv', header=None, index_col=0)\n",
    "gy['model'] = 'Green YOLO'\n",
    "gy"
   ]
  },
  {
   "cell_type": "code",
   "execution_count": 59,
   "metadata": {},
   "outputs": [
    {
     "data": {
      "text/html": [
       "<div>\n",
       "<style scoped>\n",
       "    .dataframe tbody tr th:only-of-type {\n",
       "        vertical-align: middle;\n",
       "    }\n",
       "\n",
       "    .dataframe tbody tr th {\n",
       "        vertical-align: top;\n",
       "    }\n",
       "\n",
       "    .dataframe thead th {\n",
       "        text-align: right;\n",
       "    }\n",
       "</style>\n",
       "<table border=\"1\" class=\"dataframe\">\n",
       "  <thead>\n",
       "    <tr style=\"text-align: right;\">\n",
       "      <th></th>\n",
       "      <th>1</th>\n",
       "      <th>2</th>\n",
       "    </tr>\n",
       "  </thead>\n",
       "  <tbody>\n",
       "    <tr>\n",
       "      <th>count</th>\n",
       "      <td>10.000000</td>\n",
       "      <td>10.000000</td>\n",
       "    </tr>\n",
       "    <tr>\n",
       "      <th>mean</th>\n",
       "      <td>0.668080</td>\n",
       "      <td>8425.586060</td>\n",
       "    </tr>\n",
       "    <tr>\n",
       "      <th>std</th>\n",
       "      <td>0.074314</td>\n",
       "      <td>2774.412035</td>\n",
       "    </tr>\n",
       "    <tr>\n",
       "      <th>min</th>\n",
       "      <td>0.506923</td>\n",
       "      <td>3995.268799</td>\n",
       "    </tr>\n",
       "    <tr>\n",
       "      <th>25%</th>\n",
       "      <td>0.647101</td>\n",
       "      <td>6467.391846</td>\n",
       "    </tr>\n",
       "    <tr>\n",
       "      <th>50%</th>\n",
       "      <td>0.688525</td>\n",
       "      <td>8196.563232</td>\n",
       "    </tr>\n",
       "    <tr>\n",
       "      <th>75%</th>\n",
       "      <td>0.707167</td>\n",
       "      <td>10897.252686</td>\n",
       "    </tr>\n",
       "    <tr>\n",
       "      <th>max</th>\n",
       "      <td>0.764167</td>\n",
       "      <td>12278.750000</td>\n",
       "    </tr>\n",
       "  </tbody>\n",
       "</table>\n",
       "</div>"
      ],
      "text/plain": [
       "               1             2\n",
       "count  10.000000     10.000000\n",
       "mean    0.668080   8425.586060\n",
       "std     0.074314   2774.412035\n",
       "min     0.506923   3995.268799\n",
       "25%     0.647101   6467.391846\n",
       "50%     0.688525   8196.563232\n",
       "75%     0.707167  10897.252686\n",
       "max     0.764167  12278.750000"
      ]
     },
     "execution_count": 59,
     "metadata": {},
     "output_type": "execute_result"
    }
   ],
   "source": [
    "# statistics\n",
    "\n",
    "gy.describe()"
   ]
  },
  {
   "cell_type": "code",
   "execution_count": 33,
   "metadata": {},
   "outputs": [],
   "source": [
    "data = pd.concat([sy, gy])"
   ]
  },
  {
   "cell_type": "code",
   "execution_count": 41,
   "metadata": {},
   "outputs": [
    {
     "data": {
      "image/png": "[encoded data removed]",
      "text/plain": [
       "<Figure size 300x300 with 1 Axes>"
      ]
     },
     "metadata": {},
     "output_type": "display_data"
    }
   ],
   "source": [
    "# image accuracy\n",
    "fig, ax = plt.subplots(figsize=(3,3))\n",
    "sns.boxplot(data=data, x='model', y=1, ax=ax, hue='model')\n",
    "plt.ylabel('Quality Score')\n",
    "plt.xlabel('')\n",
    "plt.savefig('accuracy.pdf')"
   ]
  },
  {
   "cell_type": "code",
   "execution_count": 55,
   "metadata": {},
   "outputs": [
    {
     "data": {
      "text/plain": [
       "WilcoxonResult(statistic=0.0, pvalue=0.001953125)"
      ]
     },
     "execution_count": 55,
     "metadata": {},
     "output_type": "execute_result"
    }
   ],
   "source": [
    "# statistically significance test for the image accuracy\n",
    "\n",
    "stats.wilcoxon(sy[1].values, gy[1].values)"
   ]
  },
  {
   "cell_type": "code",
   "execution_count": 42,
   "metadata": {},
   "outputs": [
    {
     "data": {
      "image/png": "[encoded data removed]",
      "text/plain": [
       "<Figure size 300x300 with 1 Axes>"
      ]
     },
     "metadata": {},
     "output_type": "display_data"
    }
   ],
   "source": [
    "# inference time\n",
    "fig, ax = plt.subplots(figsize=(3, 3))\n",
    "sns.boxplot(data=data, x=\"model\", y=2, ax=ax, hue=\"model\")\n",
    "plt.ylabel(\"Inference Time (s)\")\n",
    "plt.xlabel(\"\")\n",
    "plt.savefig(\"inference.pdf\")"
   ]
  },
  {
   "cell_type": "code",
   "execution_count": 57,
   "metadata": {},
   "outputs": [
    {
     "data": {
      "text/plain": [
       "WilcoxonResult(statistic=0.0, pvalue=0.001953125)"
      ]
     },
     "execution_count": 57,
     "metadata": {},
     "output_type": "execute_result"
    }
   ],
   "source": [
    "# statistically significance test for the inference time\n",
    "\n",
    "stats.wilcoxon(sy[2].values, gy[2].values)"
   ]
  }
 ],
 "metadata": {
  "kernelspec": {
   "display_name": "sens_disc",
   "language": "python",
   "name": "python3"
  },
  "language_info": {
   "codemirror_mode": {
    "name": "ipython",
    "version": 3
   },
   "file_extension": ".py",
   "mimetype": "text/x-python",
   "name": "python",
   "nbconvert_exporter": "python",
   "pygments_lexer": "ipython3",
   "version": "3.10.13"
  }
 },
 "nbformat": 4,
 "nbformat_minor": 2
}
