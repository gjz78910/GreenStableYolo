{
 "cells": [
  {
   "cell_type": "code",
   "execution_count": null,
   "metadata": {},
   "outputs": [],
   "source": [
    "%pip3 install ultralytics diffusers transformers accelerate scipy safetensors"
   ]
  },
  {
   "cell_type": "code",
   "execution_count": null,
   "metadata": {},
   "outputs": [],
   "source": [
    "from StableYolo import GAOptimizer"
   ]
  },
  {
   "cell_type": "code",
   "execution_count": null,
   "metadata": {},
   "outputs": [],
   "source": [
    "prompt = \"Two people and a bus\"\n",
    "\n",
    "configuration = {\n",
    "    \"numgen\": 25,\n",
    "    \"mut_prob\": 0.2,\n",
    "    \"cross_prob\": 0.2,\n",
    "    \"num_sel\": 10,\n",
    "    \"mu_sel\": 5,\n",
    "    \"lambda_sel\": 5,\n",
    "    \"inner_mut_prob\": 0.2,\n",
    "    \"population_size\": 25,\n",
    "    \"tournament_sel\": 5,\n",
    "    \"weights\": [1],\n",
    "    \"prompt\": prompt,\n",
    "}\n",
    "\n",
    "\n",
    "print(\"Loading data\")\n",
    "print(\"GA\")\n",
    "gen = GAOptimizer(configuration)\n",
    "\n",
    "sol, offspring, logbook = gen.optimize()\n",
    "print(\"Last Generation\")\n",
    "print(offspring)\n",
    "print(\"Logs\")\n",
    "print(logbook)\n",
    "print(\"Best\")\n",
    "print(sol)\n",
    "print(\"Done\")"
   ]
  }
 ],
 "metadata": {
  "language_info": {
   "name": "python"
  }
 },
 "nbformat": 4,
 "nbformat_minor": 2
}
